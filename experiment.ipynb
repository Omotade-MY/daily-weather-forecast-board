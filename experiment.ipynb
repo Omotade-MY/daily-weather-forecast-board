{
 "cells": [
  {
   "cell_type": "code",
   "execution_count": 1,
   "metadata": {},
   "outputs": [],
   "source": [
    "import json\n",
    "import csv\n",
    "import pandas as pd\n",
    "import requests"
   ]
  },
  {
   "cell_type": "code",
   "execution_count": 2,
   "metadata": {},
   "outputs": [],
   "source": [
    "def readfile(filepath= \"./data_json/cap[665].json\"):\n",
    "    \n",
    "    with open(filepath, 'r') as json_file:\n",
    "        return json.load(json_file)\n"
   ]
  },
  {
   "cell_type": "code",
   "execution_count": 2,
   "metadata": {},
   "outputs": [],
   "source": [
    "from pydantic import BaseModel\n",
    "\n",
    "class City(BaseModel):\n",
    "    name: str\n",
    "    region: str\n",
    "    country: str\n",
    "    latitude: float\n",
    "    longitude: float\n",
    "    utcOffset: float = 1.0\n",
    "    zone: str = \"Africa/Lagos\"\n",
    "    \n",
    "\n",
    "\n",
    "class Astronomy(BaseModel):\n",
    "    city: str = \"\"\n",
    "    date: str = \"\"\n",
    "    sunrise: str\n",
    "    sunset: str\n",
    "    moonrise: str\n",
    "    moonset: str\n",
    "    moon_phase: str\n",
    "    moon_illumination: int\n",
    "    \n",
    "    \n",
    "class Weather(BaseModel):\n",
    "    city: str = \"\"\n",
    "    date: str = \"\"  \n",
    "    maxtempC: float\n",
    "    maxtempF: float\n",
    "    mintempC: float\n",
    "    mintempF: float\n",
    "    avgtempC: float\n",
    "    avgtempF: float\n",
    "    totalSnow_cm: float\n",
    "    sunHour: float\n",
    "    uvIndex: float\n",
    "    "
   ]
  },
  {
   "cell_type": "code",
   "execution_count": 3,
   "metadata": {},
   "outputs": [],
   "source": [
    "from typing import Optional\n",
    "class ParseFile:\n",
    "    def __init__(self, json_handler: Optional[dict]):\n",
    "        \n",
    "        if type(json_handler) != dict:\n",
    "            json_file = json_handler()\n",
    "        else:\n",
    "            json_file = json_handler\n",
    "        \n",
    "        self.json_data = json_file.get('data')\n",
    "        self.time_zone = self.json_data['time_zone'][0]\n",
    "        self.weather: Optional[Weather] = None\n",
    "        self.astronomy: Optional[Astronomy] = None\n",
    "\n",
    "    def parse_area(self) -> City:\n",
    "        \"\"\"\n",
    "        ------------\n",
    "        return type: dict\n",
    "        ------------\n",
    "\n",
    "        \"\"\"\n",
    "\n",
    "        area = self.json_data['nearest_area'][0]\n",
    "\n",
    "        area_info = []\n",
    "        for ar in area.items():\n",
    "            ar = list(ar)\n",
    "            if ar[0] == 'areaName':\n",
    "                ar[0] = 'name'\n",
    "            if type(ar[1]) == list:\n",
    "                ar[1] = ar[1][0]['value']\n",
    "            area_info.append(ar)\n",
    "        \n",
    "        area_info = dict(area_info)\n",
    "        \n",
    "\n",
    "        self.city = area_info['name']\n",
    "        area_info['zone'] = self.time_zone['zone']\n",
    "        area_info['utcOffset'] = self.time_zone['utcOffset']\n",
    "        city = City.parse_obj(area_info)\n",
    "        return city\n",
    "\n",
    "    \n",
    "    def parse_weather(self) -> tuple:\n",
    "        if not (self.weather and self.astronomy):\n",
    "\n",
    "            weather_dict = self.json_data.get('weather')[0]  \n",
    "            weather_dict.pop('date')\n",
    "            weather_dict['city'] = self.city\n",
    "            weather_dict['date'] = self.time_zone['localtime']\n",
    "            hourly = weather_dict.pop('hourly')[0]\n",
    "            hourly['city'] = self.city\n",
    "            hourly['time'] = self.time_zone['localtime']\n",
    "            \n",
    "            #weather_dict['hourly'] = hourly\n",
    "\n",
    "            astronomy_dict = weather_dict.pop('astronomy')[0]\n",
    "            astronomy = Astronomy.parse_obj(astronomy_dict)\n",
    "            astronomy.city = self.city\n",
    "            astronomy.date = self.time_zone['localtime']\n",
    "\n",
    "            \n",
    "\n",
    "            weather = Weather.parse_obj(weather_dict)\n",
    "            self.weather = weather\n",
    "            self.astronomy = astronomy\n",
    "            self.hourly = hourly\n",
    "\n",
    "        return self.weather, self.astronomy, self.hourly\n",
    "\n",
    "                \n",
    "            \n",
    "            \n",
    "            "
   ]
  },
  {
   "cell_type": "code",
   "execution_count": 4,
   "metadata": {},
   "outputs": [],
   "source": [
    "\n",
    "from datetime import datetime\n",
    "import os\n",
    "\n",
    "\n",
    "def to_csv(filename: str, data):\n",
    "\n",
    "    dirname = \"./weather\" + datetime.now().strftime(\"%Y-%m-%d-%h\")\n",
    "    if not os.path.isdir(dirname):\n",
    "        os.mkdir(dirname)\n",
    "\n",
    "    filepath = dirname+ \"/\" + filename\n",
    "    if os.path.isfile(filepath):\n",
    "        os.remove(filepath)\n",
    "\n",
    "    with open(filepath, 'a+') as fp:\n",
    "        writer = csv.DictWriter(fp, data)\n",
    "        writer.writeheader()\n",
    "        writer.writerow( data)"
   ]
  },
  {
   "cell_type": "code",
   "execution_count": 60,
   "metadata": {},
   "outputs": [],
   "source": [
    "from urllib import response\n",
    "import boto3\n",
    "from io import StringIO\n",
    "import os\n",
    "import pandas as pd\n",
    "\n",
    "\n",
    "def create_filestreams(data):\n",
    "\n",
    "    \"\"\"Create file streams for city, wetaher, astronomy, and hourly\"\"\"\n",
    "\n",
    "    \n",
    "    create_filestreams.has_been_called = True\n",
    "\n",
    "    global streams, writers, files\n",
    "    streams = {}\n",
    "    writers = {}\n",
    "    files = ['city', 'weather', 'astronomy']\n",
    "    for fl in files:\n",
    "\n",
    "        streams[fl] = StringIO()\n",
    "        writers[fl] = csv.DictWriter(streams[fl], data[fl])\n",
    "        writers[fl].writeheader()\n",
    "\n",
    "def load_file(data):\n",
    "    for fl in files:\n",
    "        writers[fl].writerow(data[fl])\n",
    "\n",
    "\n",
    "def transform(files_data):\n",
    "    upload_stream = StringIO()\n",
    "    \n",
    "    data = pd.merge(files_data['weather'], files_data['astronomy'].drop('date', axis=1), \n",
    "    left_on = 'city', right_on= 'city').drop_duplicates()\n",
    "    \n",
    "    \n",
    "    data = data.merge(files_data['city'][['name', 'latitude','longitude']], right_on='name', left_on='city').drop_duplicates()\n",
    "\n",
    "    print(\"at point 4\")\n",
    "    dropables = ['date', 'maxtempF', 'avgtempF','mintempF','moonrise','totalSnow_cm', 'moonset','moon_illumination',\n",
    "    \"moon_phase\", \"uvIndex\",\"name\"]\n",
    "    data['date'] = pd.to_datetime(data['date'])\n",
    "\n",
    "    \n",
    "    data['day'] = data['date'].apply(lambda dt: dt.day)\n",
    "    data['day_name'] = data['date'].apply(lambda dt: dt.day_name())\n",
    "    data['month'] = data['date'].apply(lambda dt: dt.month_name())\n",
    "    data['year'] = data['date'].apply(lambda dt: dt.year)\n",
    "\n",
    "    \n",
    "    data = data.drop(dropables, axis=1)\n",
    "\n",
    "    data.to_csv(upload_stream, index=False)\n",
    "\n",
    "    \n",
    "    return upload_stream.getvalue()\n",
    "    \n",
    "\n",
    "def upload_files(bucket=\"weather-test-ng\"):\n",
    "    files_data = {}\n",
    "    for filename in files:\n",
    "        \n",
    "        file = streams[filename]\n",
    "        file.seek(0)\n",
    "        files_data[filename] = pd.read_csv(file)\n",
    "\n",
    "    print(\"at point 1\")\n",
    "    s3_file = transform(files_data)\n",
    "    s3_resource = boto3.resource('s3')\n",
    "    res = s3_resource.Object(bucket, 'weather_file.csv').put(Body=s3_file)\n",
    "    print(\"at final point\")\n",
    "    #if res['ResponseMetadata']['HTTPStatusCode'] == 200:\n",
    "            "
   ]
  },
  {
   "cell_type": "code",
   "execution_count": null,
   "metadata": {},
   "outputs": [],
   "source": []
  },
  {
   "cell_type": "code",
   "execution_count": 61,
   "metadata": {},
   "outputs": [],
   "source": [
    "from data_api import gen_state\n",
    "\n",
    "def process(upload=False):\n",
    "\n",
    "    state = pd.read_csv(\"list_of_capitals.csv\").dropna()\n",
    "    capitals = state['Capital'].values\n",
    "\n",
    "\n",
    "    # Extract\n",
    "    weather_data_gen = iter(gen_state(capitals))\n",
    "    create_filestreams.has_been_called = False\n",
    "    while True:\n",
    "        \n",
    "        try:\n",
    "            jsondata = next(weather_data_gen)\n",
    "\n",
    "            # Transform\n",
    "            parser = ParseFile(json_handler=jsondata)\n",
    "            data = {}\n",
    "\n",
    "            city = parser.parse_area()\n",
    "            weather, astronomy, hourly  = parser.parse_weather()\n",
    "\n",
    "            \n",
    "\n",
    "            data['city'] = city.dict()\n",
    "            data['weather'] = weather.dict()\n",
    "            data['astronomy'] = astronomy.dict()\n",
    "\n",
    "            if create_filestreams.has_been_called == False:\n",
    "                create_filestreams(data=data)\n",
    "\n",
    "            load_file(data=data)\n",
    "\n",
    "        except StopIteration:\n",
    "            print(\"Loading files completed!\\nUploading file to aws s3 bucket...\")\n",
    "\n",
    "            \n",
    "            upload_files()\n",
    "            print('Uploaded')\n",
    "            break\n",
    "\n"
   ]
  },
  {
   "cell_type": "code",
   "execution_count": 62,
   "metadata": {},
   "outputs": [
    {
     "name": "stdout",
     "output_type": "stream",
     "text": [
      "Loading files completed!\n",
      "Uploading file to aws s3 bucket...\n",
      "at point 1\n",
      "at point 2\n",
      "at point 3\n",
      "at point 4\n",
      "at point 5\n",
      "at point 6\n",
      "at point 7\n",
      "at final point\n",
      "Uploaded\n"
     ]
    }
   ],
   "source": [
    "process()"
   ]
  },
  {
   "cell_type": "code",
   "execution_count": 45,
   "metadata": {},
   "outputs": [
    {
     "data": {
      "text/plain": [
       "0"
      ]
     },
     "execution_count": 45,
     "metadata": {},
     "output_type": "execute_result"
    }
   ],
   "source": [
    "city = streams['city']\n",
    "weather = streams['weather']\n",
    "\n",
    "\n",
    "city.seek(0)"
   ]
  },
  {
   "cell_type": "code",
   "execution_count": 47,
   "metadata": {},
   "outputs": [
    {
     "data": {
      "text/plain": [
       "(38, 7)"
      ]
     },
     "execution_count": 47,
     "metadata": {},
     "output_type": "execute_result"
    }
   ],
   "source": [
    "#df = pd.read_csv(city)\n",
    "df.shape"
   ]
  },
  {
   "cell_type": "code",
   "execution_count": 70,
   "metadata": {},
   "outputs": [],
   "source": [
    "\n",
    "state = pd.read_csv(\"list_of_capitals.csv\").dropna()\n",
    "capitals = state['Capital'].values\n",
    "\n",
    "it = iter(gen_state(capitals))\n",
    "\n",
    "        #weather, astronomy, hourly  = parser.parse_weather()"
   ]
  },
  {
   "cell_type": "code",
   "execution_count": 75,
   "metadata": {},
   "outputs": [],
   "source": [
    "csv_buffer = StringIO()\n",
    "data = next(it)\n",
    "parser = ParseFile(json_handler=data)\n",
    "\n",
    "city = parser.parse_area()\n",
    "writer = csv.DictWriter(csv_buffer, city.dict())\n",
    "\n",
    "writer.writeheader()"
   ]
  },
  {
   "cell_type": "code",
   "execution_count": 80,
   "metadata": {},
   "outputs": [],
   "source": [
    "\n",
    "\n",
    "\n",
    "writer.writerow(city.dict())\n",
    "file = csv_buffer.getvalue()"
   ]
  },
  {
   "cell_type": "code",
   "execution_count": 3,
   "metadata": {},
   "outputs": [],
   "source": [
    "from io import StringIO, BytesIO\n",
    "import boto3\n",
    "import pandas as pd\n",
    "from process import get_session"
   ]
  },
  {
   "cell_type": "code",
   "execution_count": 45,
   "metadata": {},
   "outputs": [],
   "source": [
    "import shutil\n",
    "shutil.rmtree('./testdir', ignore_errors=False, onerror=None)"
   ]
  },
  {
   "cell_type": "code",
   "execution_count": 45,
   "metadata": {},
   "outputs": [],
   "source": [
    "BucketName = \"weather-ng\"\n",
    "file = \"weather.csv\"\n",
    "session = get_session()\n",
    "s3 = session.client('s3')\n",
    "\n",
    "file_obj = s3.get_object(Bucket=BucketName, Key=file)\n",
    "file_stream = BytesIO(file_obj['Body'].read())\n",
    "weather_file = pd.read_csv(file_stream)"
   ]
  },
  {
   "cell_type": "code",
   "execution_count": 2,
   "metadata": {},
   "outputs": [],
   "source": [
    "def download_file(bucket=\"weather-ng\"):\n",
    "    session = get_session()\n",
    "    s3 = session.client('s3')\n",
    "\n",
    "    for file in s3.list_objects(Bucket=bucket)['Contents']:\n",
    "        filename = file['Key']\n",
    "        file_obj = s3.get_object(Bucket=bucket, Key=filename)\n",
    "        file_stream = file_obj['Body'].read()\n",
    "        file = pd.read_csv(BytesIO(file_stream))\n",
    "        print(file.head(2))\n",
    "    "
   ]
  },
  {
   "cell_type": "code",
   "execution_count": 1,
   "metadata": {},
   "outputs": [],
   "source": [
    "from process import download_file"
   ]
  },
  {
   "cell_type": "code",
   "execution_count": 39,
   "metadata": {},
   "outputs": [],
   "source": [
    "files = download_file()"
   ]
  },
  {
   "cell_type": "code",
   "execution_count": 91,
   "metadata": {},
   "outputs": [],
   "source": [
    "import pandas as pd\n",
    "data = pd.merge(files['weather.csv'], files['astronomy.csv'].drop('date', axis=1), \n",
    "left_on = 'city', right_on= 'city').merge(files['city.csv'][['name', 'latitude','longitude']], right_on='name', left_on='city').drop_duplicates()"
   ]
  },
  {
   "cell_type": "code",
   "execution_count": 97,
   "metadata": {},
   "outputs": [],
   "source": [
    "def parse_date(df):\n",
    "    df['day'] = df['date'].apply(lambda dt: dt.day)\n",
    "    df['day_name'] = df['date'].apply(lambda dt: dt.day_name())\n",
    "    df['month'] = df['date'].apply(lambda dt: dt.month)\n",
    "    df['year'] = df['date'].apply(lambda dt: dt.year)\n",
    "    \n",
    "\n",
    "    return df\n",
    "\n",
    "data = parse_date(data)"
   ]
  },
  {
   "cell_type": "code",
   "execution_count": 110,
   "metadata": {},
   "outputs": [],
   "source": [
    "def transform(files):\n",
    "    data = pd.merge(files['weather.csv'], files['astronomy.csv'].drop('date', axis=1), \n",
    "    left_on = 'city', right_on= 'city').merge(files['city.csv'][['name', 'latitude','longitude']], right_on='name', left_on='city').drop_duplicates()\n",
    "    dropables = ['date', 'maxtempF', 'avgtempF','mintempF','moonrise','totalSnow_cm', 'moonset','moon_illumination',\n",
    "    \"moon_phase\", \"uvIndex\",\"name\"]\n",
    "    data['date'] = pd.to_datetime(data['date'])\n",
    "\n",
    "    data['day'] = data['date'].apply(lambda dt: dt.day)\n",
    "    data['day_name'] = data['date'].apply(lambda dt: dt.day_name())\n",
    "    data['month'] = data['date'].apply(lambda dt: dt.month)\n",
    "    data['year'] = data['date'].apply(lambda dt: dt.year)\n",
    "\n",
    "    return data"
   ]
  },
  {
   "cell_type": "code",
   "execution_count": 111,
   "metadata": {},
   "outputs": [],
   "source": [
    "files = download_file()\n",
    "data = transform(files)"
   ]
  },
  {
   "cell_type": "code",
   "execution_count": 107,
   "metadata": {},
   "outputs": [],
   "source": [
    "dropables = ['date', 'maxtempF', 'avgtempF','mintempF','moonrise','totalSnow_cm', 'moonset','moon_illumination',\n",
    " \"moon_phase\", \"uvIndex\",\"name\"]"
   ]
  },
  {
   "cell_type": "code",
   "execution_count": 112,
   "metadata": {},
   "outputs": [
    {
     "data": {
      "text/plain": [
       "(37, 24)"
      ]
     },
     "execution_count": 112,
     "metadata": {},
     "output_type": "execute_result"
    }
   ],
   "source": [
    "data.shape"
   ]
  },
  {
   "cell_type": "code",
   "execution_count": null,
   "metadata": {},
   "outputs": [],
   "source": []
  }
 ],
 "metadata": {
  "kernelspec": {
   "display_name": "Python 3.9.12 ('base')",
   "language": "python",
   "name": "python3"
  },
  "language_info": {
   "codemirror_mode": {
    "name": "ipython",
    "version": 3
   },
   "file_extension": ".py",
   "mimetype": "text/x-python",
   "name": "python",
   "nbconvert_exporter": "python",
   "pygments_lexer": "ipython3",
   "version": "3.9.12"
  },
  "orig_nbformat": 4,
  "vscode": {
   "interpreter": {
    "hash": "263930470851f494f0ed2879c35b57985588df20f9e529b86e97dd5eb9ddc466"
   }
  }
 },
 "nbformat": 4,
 "nbformat_minor": 2
}
