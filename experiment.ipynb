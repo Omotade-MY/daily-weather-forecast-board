{
 "cells": [
  {
   "cell_type": "code",
   "execution_count": 9,
   "metadata": {},
   "outputs": [],
   "source": [
    "import json\n",
    "import csv\n",
    "import pandas as pd\n",
    "import requests"
   ]
  },
  {
   "cell_type": "code",
   "execution_count": 10,
   "metadata": {},
   "outputs": [],
   "source": [
    "def readfile(filepath= \"./data_json/cap[665].json\"):\n",
    "    with open(filepath, 'r') as json_file:\n",
    "        return json.load(json_file)\n"
   ]
  },
  {
   "cell_type": "code",
   "execution_count": 11,
   "metadata": {},
   "outputs": [],
   "source": [
    "from pydantic import BaseModel\n",
    "\n",
    "class City(BaseModel):\n",
    "    name: str\n",
    "    region: str\n",
    "    country: str\n",
    "    latitude: float\n",
    "    longitude: float\n",
    "    utcOffset: float = 1.0\n",
    "    zone: str = \"Africa/Lagos\"\n",
    "    \n",
    "\n",
    "\n",
    "class Astronomy(BaseModel):\n",
    "    city: str = \"\"\n",
    "    date: str = \"\"\n",
    "    sunrise: str\n",
    "    sunset: str\n",
    "    moonrise: str\n",
    "    moonset: str\n",
    "    moon_phase: str\n",
    "    moon_illumination: int\n",
    "    \n",
    "    \n",
    "class Weather(BaseModel):\n",
    "    city: str = \"\"\n",
    "    date: str = \"\"  \n",
    "    maxtempC: float\n",
    "    maxtempF: float\n",
    "    mintempC: float\n",
    "    mintempF: float\n",
    "    avgtempC: float\n",
    "    avgtempF: float\n",
    "    totalSnow_cm: float\n",
    "    sunHour: float\n",
    "    uvIndex: float\n",
    "    "
   ]
  },
  {
   "cell_type": "code",
   "execution_count": 12,
   "metadata": {},
   "outputs": [],
   "source": [
    "from typing import Optional\n",
    "class ParseFile:\n",
    "    def __init__(self, json_handler: Optional[dict]):\n",
    "        \n",
    "        if type(json_handler) != dict:\n",
    "            json_file = json_handler()\n",
    "        else:\n",
    "            json_file = json_handler\n",
    "        \n",
    "        self.json_data = json_file.get('data')\n",
    "        self.time_zone = self.json_data['time_zone'][0]\n",
    "        self.weather: Optional[Weather] = None\n",
    "        self.astronomy: Optional[Astronomy] = None\n",
    "\n",
    "    def parse_area(self) -> City:\n",
    "        \"\"\"\n",
    "        ------------\n",
    "        return type: dict\n",
    "        ------------\n",
    "\n",
    "        \"\"\"\n",
    "\n",
    "        area = self.json_data['nearest_area'][0]\n",
    "\n",
    "        area_info = []\n",
    "        for ar in area.items():\n",
    "            ar = list(ar)\n",
    "            if ar[0] == 'areaName':\n",
    "                ar[0] = 'name'\n",
    "            if type(ar[1]) == list:\n",
    "                ar[1] = ar[1][0]['value']\n",
    "            area_info.append(ar)\n",
    "        \n",
    "        area_info = dict(area_info)\n",
    "        \n",
    "\n",
    "        self.city = area_info['name']\n",
    "        area_info['zone'] = self.time_zone['zone']\n",
    "        area_info['utcOffset'] = self.time_zone['utcOffset']\n",
    "        city = City.parse_obj(area_info)\n",
    "        return city\n",
    "\n",
    "    \n",
    "    def parse_weather(self) -> tuple:\n",
    "        if not (self.weather and self.astronomy):\n",
    "\n",
    "            weather_dict = self.json_data.get('weather')[0]  \n",
    "            weather_dict.pop('date')\n",
    "            weather_dict['city'] = self.city\n",
    "            weather_dict['date'] = self.time_zone['localtime']\n",
    "            hourly = weather_dict.pop('hourly')[0]\n",
    "            hourly['city'] = self.city\n",
    "            hourly['time'] = self.time_zone['localtime']\n",
    "            \n",
    "            #weather_dict['hourly'] = hourly\n",
    "\n",
    "            astronomy_dict = weather_dict.pop('astronomy')[0]\n",
    "            astronomy = Astronomy.parse_obj(astronomy_dict)\n",
    "            astronomy.city = self.city\n",
    "            astronomy.date = self.time_zone['localtime']\n",
    "\n",
    "            \n",
    "\n",
    "            weather = Weather.parse_obj(weather_dict)\n",
    "            self.weather = weather\n",
    "            self.astronomy = astronomy\n",
    "            self.hourly = hourly\n",
    "\n",
    "        return self.weather, self.astronomy, self.hourly\n",
    "\n",
    "                \n",
    "            \n",
    "            \n",
    "            "
   ]
  },
  {
   "cell_type": "code",
   "execution_count": 13,
   "metadata": {},
   "outputs": [],
   "source": [
    "\n",
    "from datetime import datetime\n",
    "import os\n",
    "\n",
    "\n",
    "def to_csv(filename: str, data):\n",
    "\n",
    "    dirname = \"./weather\" + datetime.now().strftime(\"%Y-%m-%d-%h\")\n",
    "    if not os.path.isdir(dirname):\n",
    "        os.mkdir(dirname)\n",
    "\n",
    "    filepath = dirname+ \"/\" + filename\n",
    "    if os.path.isfile(filepath):\n",
    "        os.remove(filepath)\n",
    "\n",
    "    with open(filepath, 'a+') as fp:\n",
    "        writer = csv.DictWriter(fp, data)\n",
    "        writer.writeheader()\n",
    "        writer.writerow( data)"
   ]
  },
  {
   "cell_type": "code",
   "execution_count": null,
   "metadata": {},
   "outputs": [],
   "source": [
    "import boto3\n",
    "from io import StringIO\n",
    "import os\n",
    "import pandas as pd\n",
    "\n",
    "\n",
    "def create_filestreams(data):\n",
    "\n",
    "    \"\"\"Create file streams for city, wetaher, astronomy, and hourly\"\"\"\n",
    "\n",
    "    global streams, writers, files\n",
    "    streams = {}\n",
    "    writers = {}\n",
    "    files = ['city', 'weather', 'astronomy', 'hourly']\n",
    "    for fl in files:\n",
    "\n",
    "        streams[fl] = (StringIO(),)\n",
    "        writers[fl] = csv.DictWriter(streams[fl], data)\n",
    "        writers[fl].writeheader()\n",
    "\n",
    "def load_file(data):\n",
    "    for fl in files:\n",
    "        writers[fl].writerow(data)\n",
    "\n",
    "def upload(filename, file, bucket=\"weather-ng\"):\n",
    "    \n",
    "\n",
    "def to_s3(filename, file, bucket=\"weather-ng\"):\n",
    "    s3_resource = boto3.resource('s3')\n",
    "    res = s3_resource.Object(bucket, filename).put(Body=file)\n",
    "    if res['ResponseMetadata']['HTTPStatusCode'] == 200:\n",
    "        return True"
   ]
  },
  {
   "cell_type": "code",
   "execution_count": 14,
   "metadata": {},
   "outputs": [],
   "source": [
    "from data_api import gen_state\n",
    "\n",
    "def process(upload=False):\n",
    "\n",
    "    state = pd.read_csv(\"list_of_capitals.csv\").dropna()\n",
    "    capitals = state['Capital'].values\n",
    "\n",
    "    streams = {}\n",
    "    writers = {}\n",
    "    files = ['city', 'weather', 'astronomy', 'hourly']\n",
    "\n",
    "    # Extract\n",
    "    weather_data_gen = iter(gen_state(capitals))\n",
    "    while True:\n",
    "        \n",
    "        try:\n",
    "            jsondata = next(weather_data_gen)\n",
    "            # Transform\n",
    "            parser = ParseFile(json_handler=jsondata)\n",
    "\n",
    "            city = parser.parse_area()\n",
    "            weather, astronomy, hourly  = parser.parse_weather()\n",
    "\n",
    "        # Load (to csv)\n",
    "        if upload == True:\n",
    "            to_s3('city.csv',city.dict())\n",
    "            to_s3('weather.csv', weather.dict())\n",
    "            to_s3('astronomy.csv', astronomy.dict())\n",
    "            to_s3('metadata.csv', hourly)\n",
    "\n",
    "        else:\n",
    "            \n",
    "            to_csv('city.csv',city.dict())\n",
    "            to_csv('weather.csv', weather.dict())\n",
    "            to_csv('astronomy.csv', astronomy.dict())\n",
    "            to_csv('metadata.csv', hourly)\n",
    "\n",
    "\n"
   ]
  },
  {
   "cell_type": "code",
   "execution_count": 70,
   "metadata": {},
   "outputs": [],
   "source": [
    "\n",
    "state = pd.read_csv(\"list_of_capitals.csv\").dropna()\n",
    "capitals = state['Capital'].values\n",
    "\n",
    "it = iter(gen_state(capitals))\n",
    "\n",
    "        #weather, astronomy, hourly  = parser.parse_weather()"
   ]
  },
  {
   "cell_type": "code",
   "execution_count": 75,
   "metadata": {},
   "outputs": [],
   "source": [
    "csv_buffer = StringIO()\n",
    "data = next(it)\n",
    "parser = ParseFile(json_handler=data)\n",
    "\n",
    "city = parser.parse_area()\n",
    "writer = csv.DictWriter(csv_buffer, city.dict())\n",
    "\n",
    "writer.writeheader()"
   ]
  },
  {
   "cell_type": "code",
   "execution_count": 80,
   "metadata": {},
   "outputs": [],
   "source": [
    "\n",
    "\n",
    "\n",
    "writer.writerow(city.dict())\n",
    "file = csv_buffer.getvalue()"
   ]
  },
  {
   "cell_type": "code",
   "execution_count": 85,
   "metadata": {},
   "outputs": [
    {
     "ename": "AttributeError",
     "evalue": "'_io.StringIO' object has no attribute 'name'",
     "output_type": "error",
     "traceback": [
      "\u001b[1;31m---------------------------------------------------------------------------\u001b[0m",
      "\u001b[1;31mAttributeError\u001b[0m                            Traceback (most recent call last)",
      "\u001b[1;32mc:\\Users\\USER\\Documents\\Portfolio\\daily-weather-forecast-board\\experiment.ipynb Cell 11\u001b[0m in \u001b[0;36m<cell line: 1>\u001b[1;34m()\u001b[0m\n\u001b[1;32m----> <a href='vscode-notebook-cell:/c%3A/Users/USER/Documents/Portfolio/daily-weather-forecast-board/experiment.ipynb#X24sZmlsZQ%3D%3D?line=0'>1</a>\u001b[0m csv_buffer\u001b[39m.\u001b[39;49mname\n",
      "\u001b[1;31mAttributeError\u001b[0m: '_io.StringIO' object has no attribute 'name'"
     ]
    }
   ],
   "source": [
    "csv_buffer."
   ]
  },
  {
   "cell_type": "code",
   "execution_count": 68,
   "metadata": {},
   "outputs": [
    {
     "data": {
      "text/plain": [
       "True"
      ]
     },
     "execution_count": 68,
     "metadata": {},
     "output_type": "execute_result"
    }
   ],
   "source": [
    "to_s3(city.dict(), 'testcity.csv')"
   ]
  },
  {
   "cell_type": "code",
   "execution_count": 45,
   "metadata": {},
   "outputs": [],
   "source": [
    "import shutil\n",
    "shutil.rmtree('./testdir', ignore_errors=False, onerror=None)"
   ]
  },
  {
   "cell_type": "code",
   "execution_count": null,
   "metadata": {},
   "outputs": [],
   "source": [
    "os.f"
   ]
  }
 ],
 "metadata": {
  "kernelspec": {
   "display_name": "Python 3.9.12 ('base')",
   "language": "python",
   "name": "python3"
  },
  "language_info": {
   "codemirror_mode": {
    "name": "ipython",
    "version": 3
   },
   "file_extension": ".py",
   "mimetype": "text/x-python",
   "name": "python",
   "nbconvert_exporter": "python",
   "pygments_lexer": "ipython3",
   "version": "3.9.12"
  },
  "orig_nbformat": 4,
  "vscode": {
   "interpreter": {
    "hash": "263930470851f494f0ed2879c35b57985588df20f9e529b86e97dd5eb9ddc466"
   }
  }
 },
 "nbformat": 4,
 "nbformat_minor": 2
}
